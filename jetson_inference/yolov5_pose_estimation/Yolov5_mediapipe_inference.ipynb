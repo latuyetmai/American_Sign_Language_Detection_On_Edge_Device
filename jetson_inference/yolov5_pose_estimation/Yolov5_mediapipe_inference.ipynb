{
 "cells": [
  {
   "cell_type": "markdown",
   "metadata": {
    "id": "FZCphqqxA-3a"
   },
   "source": [
    "# American Sign Language (ASL) Final Project W251 YOLOv5 Custom Dataset\n",
    "---\n",
    " \n",
    "## Set up on Nvidia Jetson NX\n",
    "\n",
    "- Using Docker Image Inference which uses the base image nvcr.io/nvidia/l4t-pytorch:r32.6.1-pth1.9-py3 from the Dockerfile.HandDetector\n",
    "- Building Docker image\n",
    "\n",
    "```bash\n",
    "sudo docker build -t mediapipe -f Dockerfile.HandDetector .\n",
    "```\n",
    "- Run the container and mounting data in the /app/ folder\n",
    "\n",
    "```bash\n",
    "docker run --privileged --runtime nvidia  --device /dev/video0  --network host --rm -v /data/w251:/app/w251 -e DISPLAY=$DISPLAY -v /tmp:/tmp -ti mediapipe\n",
    "```\n",
    "- Run the following script after spinning up the Docker Container to remove the conficted Pillow version\n",
    "\n",
    "```bash\n",
    "bash dependencies_setup.sh\n",
    "```\n",
    "- Run the following line before spinning up Jupyter to update Jupyter config\n",
    "\n",
    "```bash\n",
    "export LD_PRELOAD=/usr/lib/aarch64-linux-gnu/libgomp.so.1\n",
    "```\n",
    "- Spin up jupyter lab\n",
    "\n",
    "```bash\n",
    "jupyter lab --no-browser --ip=0.0.0.0 --allow-root\n",
    "```"
   ]
  },
  {
   "cell_type": "markdown",
   "metadata": {
    "id": "5H2udW8ABZO9"
   },
   "source": [
    "#### 1. Download Yolov5 Repository & Data"
   ]
  },
  {
   "cell_type": "code",
   "execution_count": null,
   "metadata": {},
   "outputs": [],
   "source": [
    "!pwd"
   ]
  },
  {
   "cell_type": "code",
   "execution_count": null,
   "metadata": {
    "colab": {
     "base_uri": "https://localhost:8080/"
    },
    "executionInfo": {
     "elapsed": 1528,
     "status": "ok",
     "timestamp": 1646619351251,
     "user": {
      "displayName": "Elizabeth Cornell",
      "photoUrl": "https://lh3.googleusercontent.com/a/default-user=s64",
      "userId": "11875085030067180310"
     },
     "user_tz": 300
    },
    "id": "qNEpTVwLBRig",
    "outputId": "fa91d84f-d8ca-49bd-f369-14e39449c7c2"
   },
   "outputs": [],
   "source": [
    "# !git clone https://github.com/ultralytics/yolov5  # clone repo\n",
    "%cd yolov5"
   ]
  },
  {
   "cell_type": "code",
   "execution_count": null,
   "metadata": {
    "colab": {
     "base_uri": "https://localhost:8080/"
    },
    "executionInfo": {
     "elapsed": 9228,
     "status": "ok",
     "timestamp": 1646618763649,
     "user": {
      "displayName": "Elizabeth Cornell",
      "photoUrl": "https://lh3.googleusercontent.com/a/default-user=s64",
      "userId": "11875085030067180310"
     },
     "user_tz": 300
    },
    "id": "3cU0iznlB8zv",
    "outputId": "e04bce14-2a84-491b-d1f9-d5f98afec75d"
   },
   "outputs": [],
   "source": [
    "import torch\n",
    "\n",
    "from IPython.display import Image, clear_output  # to display images\n",
    "\n",
    "clear_output()\n",
    "print('Setup complete. Using torch %s %s' % (torch.__version__, torch.cuda.get_device_properties(0) if torch.cuda.is_available() else 'CPU'))"
   ]
  },
  {
   "cell_type": "markdown",
   "metadata": {
    "id": "6LcT5TksAf8w"
   },
   "source": [
    "#### 2. Make sure to download the dataset from Roboflow as YOLO v5 PyTorch"
   ]
  },
  {
   "cell_type": "code",
   "execution_count": null,
   "metadata": {},
   "outputs": [],
   "source": [
    "!mkdir ./data/asl7"
   ]
  },
  {
   "cell_type": "code",
   "execution_count": null,
   "metadata": {},
   "outputs": [],
   "source": [
    "%cd ./data/asl7"
   ]
  },
  {
   "cell_type": "code",
   "execution_count": null,
   "metadata": {
    "colab": {
     "base_uri": "https://localhost:8080/"
    },
    "executionInfo": {
     "elapsed": 2142,
     "status": "ok",
     "timestamp": 1646619481595,
     "user": {
      "displayName": "Elizabeth Cornell",
      "photoUrl": "https://lh3.googleusercontent.com/a/default-user=s64",
      "userId": "11875085030067180310"
     },
     "user_tz": 300
    },
    "id": "3bDtpj3ICmZo",
    "outputId": "43063243-22f3-4ab7-9047-e750e2c0a280",
    "tags": []
   },
   "outputs": [],
   "source": [
    "!curl -L \"https://app.roboflow.com/ds/KnljOtVDPM?key=37TDe9XWw3\" > roboflow.zip; unzip roboflow.zip; rm roboflow.zip"
   ]
  },
  {
   "cell_type": "code",
   "execution_count": null,
   "metadata": {
    "colab": {
     "base_uri": "https://localhost:8080/"
    },
    "executionInfo": {
     "elapsed": 180,
     "status": "ok",
     "timestamp": 1646618796373,
     "user": {
      "displayName": "Elizabeth Cornell",
      "photoUrl": "https://lh3.googleusercontent.com/a/default-user=s64",
      "userId": "11875085030067180310"
     },
     "user_tz": 300
    },
    "id": "kI6cO6nBEhF2",
    "outputId": "d8e8c6b0-6364-4b96-bd0d-6a0125f984f4"
   },
   "outputs": [],
   "source": [
    "%cat data.yaml"
   ]
  },
  {
   "cell_type": "code",
   "execution_count": null,
   "metadata": {
    "executionInfo": {
     "elapsed": 158,
     "status": "ok",
     "timestamp": 1646619489587,
     "user": {
      "displayName": "Elizabeth Cornell",
      "photoUrl": "https://lh3.googleusercontent.com/a/default-user=s64",
      "userId": "11875085030067180310"
     },
     "user_tz": 300
    },
    "id": "kARCK8BSEngd"
   },
   "outputs": [],
   "source": [
    "import yaml\n",
    "with open(\"data.yaml\", 'r') as stream:\n",
    "    num_classes = str(yaml.safe_load(stream)['nc'])"
   ]
  },
  {
   "cell_type": "code",
   "execution_count": null,
   "metadata": {
    "id": "RLzeYUEPFe4E"
   },
   "outputs": [],
   "source": [
    "# cat the model used\n",
    "#%cat /content/yolov5/models/yolov5s.yaml"
   ]
  },
  {
   "cell_type": "code",
   "execution_count": null,
   "metadata": {
    "executionInfo": {
     "elapsed": 156,
     "status": "ok",
     "timestamp": 1646618806044,
     "user": {
      "displayName": "Elizabeth Cornell",
      "photoUrl": "https://lh3.googleusercontent.com/a/default-user=s64",
      "userId": "11875085030067180310"
     },
     "user_tz": 300
    },
    "id": "Pjxoxrz7Fv2b"
   },
   "outputs": [],
   "source": [
    "#customize iPython writefile so we can write variables\n",
    "from IPython.core.magic import register_line_cell_magic\n",
    "\n",
    "@register_line_cell_magic\n",
    "def writetemplate(line, cell):\n",
    "    with open(line, 'w') as f:\n",
    "        f.write(cell.format(**globals()))"
   ]
  },
  {
   "cell_type": "code",
   "execution_count": null,
   "metadata": {},
   "outputs": [],
   "source": [
    "%cd ../.."
   ]
  },
  {
   "cell_type": "code",
   "execution_count": null,
   "metadata": {},
   "outputs": [],
   "source": [
    "print(num_classes)"
   ]
  },
  {
   "cell_type": "code",
   "execution_count": null,
   "metadata": {
    "executionInfo": {
     "elapsed": 181,
     "status": "ok",
     "timestamp": 1646619494019,
     "user": {
      "displayName": "Elizabeth Cornell",
      "photoUrl": "https://lh3.googleusercontent.com/a/default-user=s64",
      "userId": "11875085030067180310"
     },
     "user_tz": 300
    },
    "id": "lynrja6AFxuG"
   },
   "outputs": [],
   "source": [
    "%%writetemplate models/custom_yolov5s.yaml\n",
    "\n",
    "# parameters\n",
    "nc: {num_classes}  # number of classes\n",
    "depth_multiple: 0.33  # model depth multiple\n",
    "width_multiple: 0.50  # layer channel multiple\n",
    "\n",
    "# anchors\n",
    "anchors:\n",
    "  - [10,13, 16,30, 33,23]  # P3/8\n",
    "  - [30,61, 62,45, 59,119]  # P4/16\n",
    "  - [116,90, 156,198, 373,326]  # P5/32\n",
    "\n",
    "# YOLOv5 backbone\n",
    "backbone:\n",
    "  # [from, number, module, args]\n",
    "  [[-1, 1, Focus, [64, 3]],  # 0-P1/2\n",
    "   [-1, 1, Conv, [128, 3, 2]],  # 1-P2/4\n",
    "   [-1, 3, BottleneckCSP, [128]],\n",
    "   [-1, 1, Conv, [256, 3, 2]],  # 3-P3/8\n",
    "   [-1, 9, BottleneckCSP, [256]],\n",
    "   [-1, 1, Conv, [512, 3, 2]],  # 5-P4/16\n",
    "   [-1, 9, BottleneckCSP, [512]],\n",
    "   [-1, 1, Conv, [1024, 3, 2]],  # 7-P5/32\n",
    "   [-1, 1, SPP, [1024, [5, 9, 13]]],\n",
    "   [-1, 3, BottleneckCSP, [1024, False]],  # 9\n",
    "  ]\n",
    "\n",
    "# YOLOv5 head\n",
    "head:\n",
    "  [[-1, 1, Conv, [512, 1, 1]],\n",
    "   [-1, 1, nn.Upsample, [None, 2, 'nearest']],\n",
    "   [[-1, 6], 1, Concat, [1]],  # cat backbone P4\n",
    "   [-1, 3, BottleneckCSP, [512, False]],  # 13\n",
    "\n",
    "   [-1, 1, Conv, [256, 1, 1]],\n",
    "   [-1, 1, nn.Upsample, [None, 2, 'nearest']],\n",
    "   [[-1, 4], 1, Concat, [1]],  # cat backbone P3\n",
    "   [-1, 3, BottleneckCSP, [256, False]],  # 17 (P3/8-small)\n",
    "\n",
    "   [-1, 1, Conv, [256, 3, 2]],\n",
    "   [[-1, 14], 1, Concat, [1]],  # cat head P4\n",
    "   [-1, 3, BottleneckCSP, [512, False]],  # 20 (P4/16-medium)\n",
    "\n",
    "   [-1, 1, Conv, [512, 3, 2]],\n",
    "   [[-1, 10], 1, Concat, [1]],  # cat head P5\n",
    "   [-1, 3, BottleneckCSP, [1024, False]],  # 23 (P5/32-large)\n",
    "\n",
    "   [[17, 20, 23], 1, Detect, [nc, anchors]],  # Detect(P3, P4, P5)\n",
    "  ]"
   ]
  },
  {
   "cell_type": "code",
   "execution_count": null,
   "metadata": {
    "tags": []
   },
   "outputs": [],
   "source": [
    "!ls"
   ]
  },
  {
   "cell_type": "markdown",
   "metadata": {},
   "source": [
    "## Inference with Jetson NX - 32FP"
   ]
  },
  {
   "cell_type": "code",
   "execution_count": null,
   "metadata": {},
   "outputs": [],
   "source": [
    "!pwd"
   ]
  },
  {
   "cell_type": "code",
   "execution_count": null,
   "metadata": {},
   "outputs": [],
   "source": [
    "torch.cuda.empty_cache()\n",
    "torch.cuda.is_available()"
   ]
  },
  {
   "cell_type": "code",
   "execution_count": null,
   "metadata": {
    "tags": []
   },
   "outputs": [],
   "source": [
    "# Validation with ASL model\n",
    "!python3 val.py --weights ./weights/final_1_best_yolov5_300_epochs.pt --data ./data/asl7/data.yaml"
   ]
  },
  {
   "cell_type": "code",
   "execution_count": null,
   "metadata": {},
   "outputs": [],
   "source": [
    "# Running Inference with a test picture - PF32\n",
    "!python3 detect.py --source test.jpg --weights ./weights/final_1_best_yolov5_300_epochs.pt --conf 0.4 --data ./data/asl7/data.yaml"
   ]
  },
  {
   "cell_type": "code",
   "execution_count": null,
   "metadata": {
    "tags": []
   },
   "outputs": [],
   "source": [
    "# Running Inference with live camera - PF32\n",
    "!python3 detect.py --source 0 --weights ./weights/final_1_best_yolov5_300_epochs.pt --conf 0.4 --data ./data/asl7/data.yaml"
   ]
  },
  {
   "cell_type": "markdown",
   "metadata": {},
   "source": [
    "## Inference with Jetson NX - Tensort RT"
   ]
  },
  {
   "cell_type": "code",
   "execution_count": null,
   "metadata": {
    "tags": []
   },
   "outputs": [],
   "source": [
    "# Export to tensortrt models\n",
    "!python3 export.py --weights ./weights/final_1_best_yolov5_300_epochs.pt  --include torchscript engine --device 0"
   ]
  },
  {
   "cell_type": "code",
   "execution_count": null,
   "metadata": {},
   "outputs": [],
   "source": [
    "# Tensort RT model - evaluation\n",
    "!python3 val.py --weights ./weights/final_1_best_yolov5_300_epochs.engine --data ./data/asl7/data.yaml"
   ]
  },
  {
   "cell_type": "code",
   "execution_count": null,
   "metadata": {
    "tags": []
   },
   "outputs": [],
   "source": [
    "# Tensort RT model - live camera inference\n",
    "!python3 detect.py --source 0 --weights ./weights/final_6_best_yolov5_300_epochs.engine --conf 0.4 --data ./data/asl7/data.yaml"
   ]
  },
  {
   "cell_type": "markdown",
   "metadata": {},
   "source": [
    "## Inference with Jetson NX - Torchscript"
   ]
  },
  {
   "cell_type": "code",
   "execution_count": null,
   "metadata": {
    "tags": []
   },
   "outputs": [],
   "source": [
    "# Torchscript model - evaluation\n",
    "!python3 val.py --weights ./weights/final_1_best_yolov5_300_epochs.torchscript --data ./data/asl7/data.yaml"
   ]
  },
  {
   "cell_type": "code",
   "execution_count": null,
   "metadata": {},
   "outputs": [],
   "source": [
    "# Torchscript model - live camera inference\n",
    "!python3 detect.py --source 0 --weights ./weights/final_1_best_yolov5_300_epochs.torchscript --conf 0.4 --data ./data/asl7/data.yaml"
   ]
  },
  {
   "cell_type": "markdown",
   "metadata": {},
   "source": [
    "## Inference with Jetson NX - ONNX"
   ]
  },
  {
   "cell_type": "code",
   "execution_count": null,
   "metadata": {
    "tags": []
   },
   "outputs": [],
   "source": [
    "# ONNX - evaluation\n",
    "!python3 val.py --weights ./weights/final_1_best_yolov5_300_epochs.onnx --data ./data/asl7/data.yaml"
   ]
  },
  {
   "cell_type": "code",
   "execution_count": null,
   "metadata": {},
   "outputs": [],
   "source": [
    "#ONNX model - live camera inference\n",
    "!python3 detect.py --source 0 --weights ./weights/final_1_best_yolov5_300_epochs.onnx --conf 0.4 --data ./data/asl7/data.yaml"
   ]
  }
 ],
 "metadata": {
  "accelerator": "GPU",
  "colab": {
   "authorship_tag": "ABX9TyNERX5r5WX7yTDSqyb5PHqA",
   "name": "Copy of YoloV5_Roboflow.ipynb",
   "provenance": [
    {
     "file_id": "1MqxVNDXsiMbXraD1FTyOSZ81RfuV564H",
     "timestamp": 1646518299203
    }
   ]
  },
  "kernelspec": {
   "display_name": "Python 3",
   "language": "python",
   "name": "python3"
  },
  "language_info": {
   "codemirror_mode": {
    "name": "ipython",
    "version": 3
   },
   "file_extension": ".py",
   "mimetype": "text/x-python",
   "name": "python",
   "nbconvert_exporter": "python",
   "pygments_lexer": "ipython3",
   "version": "3.6.9"
  }
 },
 "nbformat": 4,
 "nbformat_minor": 4
}
