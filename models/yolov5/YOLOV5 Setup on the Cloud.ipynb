{
 "cells": [
  {
   "cell_type": "markdown",
   "id": "5b2c038a",
   "metadata": {},
   "source": [
    "# YOLOV5 Setup on the Cloud\n",
    "\n",
    "1. Create an EC2 instance on AWS ( g4dn.2xlarge AWS EC2 Instance with Nvidia Deep Learning AMI)\n",
    "\n",
    "2. Run the following scripts in the command to get the correct yolov5 docker image  and copy over notebook to train the model.\n",
    "``` shell\n",
    "mkdir data\n",
    "cd data\n",
    "git clone https://github.com/ultralytics/yolov5\n",
    "cd ..\n",
    "git clone https://github.com/UC-Berkeley-I-School/w251_team_kpop_project.git\n",
    "cd data/yolov5/ \n",
    "sudo docker build -f Dockerfile -t yolov5:v1 .\n",
    "cp ~/w251_team_kpop_project/models/yolov5/YoloV5_Roboflow_W_B\\ _latest.ipynb .\n",
    "cd ~\n",
    "docker run --net=host --gpus=all --ipc=host -v ~/data:/data -p 8882:8888 -ti yolov5:v1 bash\n",
    "cd ../../..\n",
    "jupyter lab --no-browser --ip=0.0.0.0 --allow-root\n",
    "```\n",
    "\n",
    "3. You can skip the first three code blocks in the ipynb file as you already have installed these packages in your container by using the YOLOV5 dockerfile."
   ]
  }
 ],
 "metadata": {
  "kernelspec": {
   "display_name": "Python 3",
   "language": "python",
   "name": "python3"
  },
  "language_info": {
   "codemirror_mode": {
    "name": "ipython",
    "version": 3
   },
   "file_extension": ".py",
   "mimetype": "text/x-python",
   "name": "python",
   "nbconvert_exporter": "python",
   "pygments_lexer": "ipython3",
   "version": "3.8.8"
  }
 },
 "nbformat": 4,
 "nbformat_minor": 5
}
